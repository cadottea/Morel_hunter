{
  "nbformat": 4,
  "nbformat_minor": 0,
  "metadata": {
    "colab": {
      "provenance": []
    },
    "kernelspec": {
      "name": "python3",
      "display_name": "Python 3"
    },
    "language_info": {
      "name": "python"
    }
  },
  "cells": [
    {
      "cell_type": "code",
      "execution_count": null,
      "metadata": {
        "colab": {
          "base_uri": "https://localhost:8080/"
        },
        "id": "e0pefkihh44i",
        "outputId": "9c9e08d7-113b-4490-8151-13f5b8f6304f"
      },
      "outputs": [
        {
          "output_type": "stream",
          "name": "stdout",
          "text": [
            "Mounted at /content/drive\n",
            "training image directory /content/drive/My Drive/Users/thor/morel_images/train_images does not exist.\n",
            "training label directory /content/drive/My Drive/Users/thor/morel_images/train_labels does not exist.\n",
            "validation image directory /content/drive/My Drive/Users/thor/morel_images/test_images does not exist.\n",
            "validation label directory /content/drive/My Drive/Users/thor/morel_images/test_labels does not exist.\n"
          ]
        }
      ],
      "source": [
        "# Import necessary libraries\n",
        "import os\n",
        "import shutil\n",
        "from google.colab import drive\n",
        "\n",
        "# Mount Google Drive\n",
        "drive.mount('/content/drive')\n",
        "\n",
        "# Define source directories for the uploaded files\n",
        "source_train_images_dir = '/content/drive/My Drive/morel_hunter_project/train_images'\n",
        "source_train_labels_dir = '/content/drive/My Drive/morel_hunter_project/train_labels'\n",
        "source_valid_images_dir = '/content/drive/My Drive/morel_hunter_project/test_images'\n",
        "source_valid_labels_dir = '/content/drive/My Drive/morel_hunter_project/test_labels'\n",
        "\n",
        "# Define target directories in Darknet\n",
        "target_train_images_dir = '/content/darknet/data/train_images'\n",
        "target_train_labels_dir = '/content/darknet/data/train_labels'\n",
        "target_valid_images_dir = '/content/darknet/data/valid_images'\n",
        "target_valid_labels_dir = '/content/darknet/data/valid_labels'\n",
        "\n",
        "# Create target directories if they do not exist\n",
        "os.makedirs(target_train_images_dir, exist_ok=True)\n",
        "os.makedirs(target_train_labels_dir, exist_ok=True)\n",
        "os.makedirs(target_valid_images_dir, exist_ok=True)\n",
        "os.makedirs(target_valid_labels_dir, exist_ok=True)\n",
        "\n",
        "# Move training images and labels to the target directories\n",
        "for filename in os.listdir(source_train_images_dir):\n",
        "    shutil.copy(os.path.join(source_train_images_dir, filename), target_train_images_dir)\n",
        "\n",
        "for filename in os.listdir(source_train_labels_dir):\n",
        "    shutil.copy(os.path.join(source_train_labels_dir, filename), target_train_labels_dir)\n",
        "\n",
        "# Move validation images and labels to the target directories\n",
        "for filename in os.listdir(source_valid_images_dir):\n",
        "    shutil.copy(os.path.join(source_valid_images_dir, filename), target_valid_images_dir)\n",
        "\n",
        "for filename in os.listdir(source_valid_labels_dir):\n",
        "    shutil.copy(os.path.join(source_valid_labels_dir, filename), target_valid_labels_dir)\n",
        "\n",
        "print(\"Files have been moved successfully!\")\n"
      ]
    },
    {
      "cell_type": "code",
      "source": [
        "# Import necessary libraries\n",
        "import os\n",
        "import shutil\n",
        "from google.colab import drive\n",
        "\n",
        "# Mount Google Drive\n",
        "drive.mount('/content/drive')\n",
        "\n",
        "# Define source directories for the uploaded files\n",
        "source_train_images_dir = '/content/drive/My Drive/morel_hunter_project/train_images'\n",
        "source_train_labels_dir = '/content/drive/My Drive/morel_hunter_project/train_labels'\n",
        "source_valid_images_dir = '/content/drive/My Drive/morel_hunter_project/test_images'\n",
        "source_valid_labels_dir = '/content/drive/My Drive/morel_hunter_project/test_labels'\n",
        "\n",
        "# Define target directories in Darknet\n",
        "target_train_images_dir = '/content/darknet/data/train_images'\n",
        "target_train_labels_dir = '/content/darknet/data/train_labels'\n",
        "target_valid_images_dir = '/content/darknet/data/valid_images'\n",
        "target_valid_labels_dir = '/content/darknet/data/valid_labels'\n",
        "\n",
        "# Create target directories if they do not exist\n",
        "os.makedirs(target_train_images_dir, exist_ok=True)\n",
        "os.makedirs(target_train_labels_dir, exist_ok=True)\n",
        "os.makedirs(target_valid_images_dir, exist_ok=True)\n",
        "os.makedirs(target_valid_labels_dir, exist_ok=True)\n",
        "\n",
        "# Move training images and labels to the target directories\n",
        "for filename in os.listdir(source_train_images_dir):\n",
        "    shutil.copy(os.path.join(source_train_images_dir, filename), target_train_images_dir)\n",
        "\n",
        "for filename in os.listdir(source_train_labels_dir):\n",
        "    shutil.copy(os.path.join(source_train_labels_dir, filename), target_train_labels_dir)\n",
        "\n",
        "# Move validation images and labels to the target directories\n",
        "for filename in os.listdir(source_valid_images_dir):\n",
        "    shutil.copy(os.path.join(source_valid_images_dir, filename), target_valid_images_dir)\n",
        "\n",
        "for filename in os.listdir(source_valid_labels_dir):\n",
        "    shutil.copy(os.path.join(source_valid_labels_dir, filename), target_valid_labels_dir)\n",
        "\n",
        "print(\"Files have been moved successfully!\")\n"
      ],
      "metadata": {
        "colab": {
          "base_uri": "https://localhost:8080/"
        },
        "id": "gX281R5Wi_wq",
        "outputId": "cdef473c-5499-42a8-f91b-39abeaedb54a"
      },
      "execution_count": null,
      "outputs": [
        {
          "output_type": "stream",
          "name": "stdout",
          "text": [
            "Drive already mounted at /content/drive; to attempt to forcibly remount, call drive.mount(\"/content/drive\", force_remount=True).\n",
            "Files have been moved successfully!\n"
          ]
        }
      ]
    },
    {
      "cell_type": "code",
      "source": [],
      "metadata": {
        "id": "UtMcLDeinOMG"
      },
      "execution_count": null,
      "outputs": []
    }
  ]
}